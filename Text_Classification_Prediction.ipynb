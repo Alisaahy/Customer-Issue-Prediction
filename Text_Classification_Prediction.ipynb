{
 "cells": [
  {
   "cell_type": "code",
   "execution_count": 1,
   "metadata": {
    "colab": {},
    "colab_type": "code",
    "id": "UadMyhsgwI47"
   },
   "outputs": [],
   "source": [
    "# Import packages\n",
    "import pandas as pd\n",
    "import numpy as np \n",
    "\n",
    "import nltk\n",
    "from nltk.tokenize import word_tokenize\n",
    "from nltk.corpus import stopwords\n",
    "from nltk.stem import PorterStemmer\n",
    "from vaderSentiment.vaderSentiment import SentimentIntensityAnalyzer\n",
    "\n",
    "from bs4 import BeautifulSoup\n",
    "import re\n",
    "\n",
    "from tqdm import tqdm\n"
   ]
  },
  {
   "cell_type": "code",
   "execution_count": null,
   "metadata": {},
   "outputs": [],
   "source": [
    "# Import dataset\n",
    "data = pd.read_csv(\"Consumer_Complaints.csv\")"
   ]
  },
  {
   "cell_type": "code",
   "execution_count": null,
   "metadata": {},
   "outputs": [],
   "source": [
    "# Drop NA\n",
    "data = data.rename(columns={'Consumer complaint narrative':'Narrative'})\n",
    "data = data.dropna(subset=['Narrative'])"
   ]
  },
  {
   "cell_type": "code",
   "execution_count": null,
   "metadata": {
    "colab_type": "text",
    "id": "K4mmvPBEMCsS"
   },
   "outputs": [],
   "source": [
    "### Apply VaderSentiment to each complaint"
   ]
  },
  {
   "cell_type": "code",
   "execution_count": null,
   "metadata": {},
   "outputs": [],
   "source": [
    "# Function for cleaning the narratives for Vader sentiment analysis\n",
    "def vader_input(text):\n",
    "        \n",
    "    # remove html content\n",
    "    text = BeautifulSoup(text).get_text()\n",
    "     \n",
    "    # remove all XX words:\n",
    "    text = re.sub(\"[XX$]\",\" \", text)\n",
    "        \n",
    "    # remove extra whitespaces\n",
    "    text = re.sub(r'\\s+', ' ', text)\n",
    "\n",
    "    return(text)"
   ]
  },
  {
   "cell_type": "code",
   "execution_count": null,
   "metadata": {},
   "outputs": [],
   "source": [
    "data['vader_input'] = data['Narrative'].apply(vader_input)"
   ]
  },
  {
   "cell_type": "code",
   "execution_count": null,
   "metadata": {},
   "outputs": [],
   "source": [
    "# Apply the sentiment analysis function for each narrative and return sentiment scores from the function\n",
    "\n",
    "analyser = SentimentIntensityAnalyzer()\n",
    "\n",
    "def sentiment_analyzer_scores(sentence):\n",
    "    score = analyser.polarity_scores(sentence)\n",
    "    # Only extract the negative score of each complaint\n",
    "    return pd.Series([score['pos'], score['neg']])\n",
    "\n",
    "data[['positive_score', 'negative_score']] = data['vader_input'].apply(sentiment_analyzer_scores)"
   ]
  },
  {
   "cell_type": "markdown",
   "metadata": {},
   "source": [
    "### Process text data"
   ]
  },
  {
   "cell_type": "code",
   "execution_count": null,
   "metadata": {},
   "outputs": [],
   "source": [
    "# Function for cleaning the narratives, remove stopwords and stem them, this is stricter than vader_input\n",
    "def clean_sentences(text):\n",
    "        \n",
    "    #remove html content\n",
    "    text = BeautifulSoup(text).get_text()\n",
    "        \n",
    "    #remove non-alphabetic characters\n",
    "    text = re.sub(\"[^a-zA-Z]\",\" \", text)\n",
    "        \n",
    "    #remove all XX words:\n",
    "    text = re.sub(\"[XX$]\",\" \", text)\n",
    "        \n",
    "    # remove extra whitespaces\n",
    "    text = re.sub(r'\\s+', ' ', text)\n",
    "        \n",
    "    #remove stop words\n",
    "    stopword = set(stopwords.words('english'))\n",
    "    text = ' '.join([word for word in text.split() if word not in (stopword)])\n",
    "        \n",
    "    #stem words\n",
    "    porter_stemmer = PorterStemmer()\n",
    "    text = porter_stemmer.stem(text)\n",
    "            \n",
    "\n",
    "    return(text)"
   ]
  },
  {
   "cell_type": "code",
   "execution_count": null,
   "metadata": {},
   "outputs": [],
   "source": [
    "data['clean_sentences'] = data['Narrative'].apply(clean_sentences)"
   ]
  },
  {
   "cell_type": "markdown",
   "metadata": {},
   "source": [
    "### Save to new data"
   ]
  },
  {
   "cell_type": "code",
   "execution_count": null,
   "metadata": {},
   "outputs": [],
   "source": [
    "data.to_csv('cleaned_narrative.csv', index = False)"
   ]
  },
  {
   "cell_type": "markdown",
   "metadata": {},
   "source": [
    "### Build the classification model"
   ]
  },
  {
   "cell_type": "code",
   "execution_count": 3,
   "metadata": {},
   "outputs": [],
   "source": [
    "data = pd.read_csv('cluster_issue.csv')"
   ]
  },
  {
   "cell_type": "code",
   "execution_count": 10,
   "metadata": {},
   "outputs": [
    {
     "data": {
      "text/plain": [
       "{'Incorrect information on your report': 8672,\n",
       " \"Credit reporting company's investigation\": 3856,\n",
       " 'Attempts to collect debt not owed': 2543,\n",
       " 'Account opening, closing, or management': 2292,\n",
       " 'Improper use of your report': 2006,\n",
       " \"Cont'd attempts collect debt not owed\": 1698,\n",
       " 'Dealing with your lender or servicer': 1603,\n",
       " 'Loan servicing, payments, escrow account': 1515,\n",
       " 'Problem when making payments': 1502,\n",
       " 'Communication tactics': 1243,\n",
       " 'Written notification about debt': 1119,\n",
       " 'Loan modification,collection,foreclosure': 1094,\n",
       " 'False statements or representation': 977,\n",
       " 'Struggling to pay your loan': 833,\n",
       " 'Struggling to pay mortgage': 786,\n",
       " 'Disclosure verification of debt': 753,\n",
       " 'Managing the loan or lease': 738,\n",
       " 'Fees or interest': 723,\n",
       " 'Took or threatened to take negative or legal action': 697,\n",
       " 'Problem with a purchase shown on your statement': 598,\n",
       " 'Unable to get your credit report or credit score': 497,\n",
       " 'Application, originator, mortgage broker': 401,\n",
       " 'Other features, terms, or problems': 388,\n",
       " 'Deposits and withdrawals': 362,\n",
       " 'Problems caused by your funds being low': 360,\n",
       " 'Fraud or scam': 320,\n",
       " 'Billing disputes': 314,\n",
       " 'Advertising and marketing': 312,\n",
       " 'Improper contact or sharing of info': 306,\n",
       " 'Taking/threatening an illegal action': 286,\n",
       " 'Problem with fraud alerts or security freezes': 274,\n",
       " 'Applying for a mortgage or refinancing an existing mortgage': 268,\n",
       " 'Problems when you are unable to pay': 254,\n",
       " 'Closing on a mortgage': 249,\n",
       " 'Getting a credit card': 236,\n",
       " 'Settlement process and costs': 225,\n",
       " 'Credit monitoring or identity theft protection services': 210,\n",
       " 'Problem with a lender or other company charging your account': 188,\n",
       " 'Threatened to contact someone or share information improperly': 187,\n",
       " 'Other': 180,\n",
       " 'Identity theft / Fraud / Embezzlement': 178,\n",
       " 'Taking out the loan or lease': 167,\n",
       " 'Using a debit or ATM card': 163,\n",
       " 'Money was not available when promised': 149,\n",
       " 'Credit decision / Underwriting': 136,\n",
       " 'Problems at the end of the loan or lease': 133,\n",
       " 'Making/receiving payments, sending money': 130,\n",
       " 'Other transaction problem': 120,\n",
       " 'Customer service / Customer relations': 115,\n",
       " 'Trouble using your card': 113,\n",
       " 'Rewards': 104,\n",
       " 'Credit monitoring or identity protection': 100,\n",
       " 'Getting a loan or lease': 85,\n",
       " 'APR or interest rate': 80,\n",
       " 'Credit card protection / Debt protection': 77,\n",
       " 'Delinquent account': 73,\n",
       " 'Late fee': 71,\n",
       " 'Shopping for a loan or lease': 65,\n",
       " 'Problem with a purchase or transfer': 63,\n",
       " 'Transaction issue': 59,\n",
       " 'Billing statement': 53,\n",
       " 'Credit line increase/decrease': 51,\n",
       " 'Payoff process': 51,\n",
       " 'Problem with the payoff process at the end of the loan': 51,\n",
       " 'Struggling to pay your bill': 50,\n",
       " 'Unsolicited issuance of credit card': 50,\n",
       " 'Other transaction issues': 49,\n",
       " 'Getting a loan': 49,\n",
       " 'Credit determination': 48,\n",
       " \"Can't contact lender or servicer\": 48,\n",
       " 'Unauthorized transactions/trans. issues': 48,\n",
       " 'Unauthorized transactions or other transaction problem': 47,\n",
       " 'Trouble using the card': 43,\n",
       " 'Other fee': 40,\n",
       " \"Problem with a company's investigation into an existing issue\": 39,\n",
       " 'Managing, opening, or closing your mobile wallet account': 37,\n",
       " 'Other service problem': 35,\n",
       " 'Getting the loan': 31,\n",
       " \"Received a loan you didn't apply for\": 31,\n",
       " 'Balance transfer': 30,\n",
       " 'Problem with customer service': 27,\n",
       " 'Identity theft protection or other monitoring services': 27,\n",
       " 'Wrong amount charged or received': 23,\n",
       " 'Payment to acct not credited': 21,\n",
       " 'Getting a line of credit': 20,\n",
       " 'Confusing or missing disclosures': 18,\n",
       " 'Problem with additional add-on products or services': 15,\n",
       " \"Can't stop charges to bank account\": 14,\n",
       " 'Adding money': 14,\n",
       " 'Customer service/Customer relations': 12,\n",
       " 'Sale of account': 11,\n",
       " 'Other service issues': 11,\n",
       " 'Applied for loan/did not receive money': 10,\n",
       " \"Can't stop withdrawals from your bank account\": 10,\n",
       " \"Was approved for a loan, but didn't receive money\": 10,\n",
       " \"Loan payment wasn't credited to your account\": 10,\n",
       " 'Application processing delay': 10,\n",
       " 'Forbearance / Workout plans': 10,\n",
       " 'Applying for a mortgage': 9,\n",
       " 'Charged bank acct wrong day or amt': 9,\n",
       " 'Money was taken from your bank account on the wrong day or for the wrong amount': 8,\n",
       " 'Arbitration': 8,\n",
       " 'Lender repossessed or sold the vehicle': 7,\n",
       " 'Lost or stolen check': 6,\n",
       " 'Bankruptcy': 6,\n",
       " 'Privacy': 6,\n",
       " 'Cash advance': 6,\n",
       " 'Convenience checks': 5,\n",
       " 'Vehicle was damaged or destroyed the vehicle': 4,\n",
       " 'Overdraft, savings or rewards features': 4,\n",
       " 'Problem with cash advance': 3,\n",
       " 'Incorrect/missing disclosures or info': 3,\n",
       " 'Credit limit changed': 3,\n",
       " 'Lost or stolen money order': 3,\n",
       " 'Account terms and changes': 2,\n",
       " 'Incorrect exchange rate': 2,\n",
       " 'Disclosures': 1,\n",
       " 'Managing the line of credit': 1,\n",
       " 'Lender damaged or destroyed vehicle': 1,\n",
       " 'Shopping for a line of credit': 1,\n",
       " 'Lender sold the property': 1}"
      ]
     },
     "execution_count": 10,
     "metadata": {},
     "output_type": "execute_result"
    }
   ],
   "source": [
    "data.Issue.value_counts().to_dict()"
   ]
  },
  {
   "cell_type": "code",
   "execution_count": 11,
   "metadata": {},
   "outputs": [
    {
     "data": {
      "text/plain": [
       "{'Incorrect information on your report': 12528,\n",
       " 'Attempts to collect debt not owed': 9809,\n",
       " 'Loan servicing, payments, escrow account': 6176,\n",
       " 'Account opening, closing, or management': 3495,\n",
       " 'Dealing with your lender or servicer': 2436,\n",
       " 'Improper use of your report': 2006,\n",
       " 'Managing the loan or lease': 1292,\n",
       " 'Problem with a purchase shown on your statement': 971,\n",
       " 'Other features, terms, or problems': 804,\n",
       " 'Fees or interest': 723,\n",
       " 'Unable to get your credit report or credit score': 497,\n",
       " 'Fraud or scam': 320,\n",
       " 'Credit monitoring or identity theft protection services': 310,\n",
       " 'Problem with fraud alerts or security freezes': 274,\n",
       " 'Money was not available when promised': 269,\n",
       " \"Can't contact lender or servicer\": 256,\n",
       " 'Getting a credit card': 236,\n",
       " 'Other': 180,\n",
       " 'Identity theft / Fraud / Embezzlement': 178,\n",
       " 'Customer service / Customer relations': 115,\n",
       " 'Trouble using your card': 113,\n",
       " 'Unauthorized transactions/trans. issues': 91,\n",
       " 'Getting a loan or lease': 85,\n",
       " 'APR or interest rate': 80,\n",
       " 'Credit card protection / Debt protection': 77,\n",
       " 'Delinquent account': 73,\n",
       " 'Late fee': 71,\n",
       " 'Shopping for a loan or lease': 65,\n",
       " 'Problem with a purchase or transfer': 63,\n",
       " 'Unsolicited issuance of credit card': 56,\n",
       " 'Billing statement': 53,\n",
       " 'Problem with the payoff process at the end of the loan': 51,\n",
       " 'Credit line increase/decrease': 51,\n",
       " 'Payoff process': 51,\n",
       " 'Struggling to pay your bill': 50,\n",
       " 'Getting a loan': 49,\n",
       " 'Other transaction issues': 49,\n",
       " 'Credit determination': 49,\n",
       " 'Managing, opening, or closing your mobile wallet account': 48,\n",
       " 'Unauthorized transactions or other transaction problem': 47,\n",
       " 'Other fee': 40,\n",
       " \"Problem with a company's investigation into an existing issue\": 39,\n",
       " 'Other service problem': 35,\n",
       " 'Balance transfer': 30,\n",
       " 'Problem with customer service': 27,\n",
       " 'Identity theft protection or other monitoring services': 27,\n",
       " 'Wrong amount charged or received': 25,\n",
       " 'Getting a line of credit': 20,\n",
       " 'Adding money': 18,\n",
       " 'Forbearance / Workout plans': 16,\n",
       " 'Customer service/Customer relations': 12,\n",
       " 'Sale of account': 11,\n",
       " 'Application processing delay': 10,\n",
       " 'Lost or stolen check': 9,\n",
       " 'Bankruptcy': 8,\n",
       " 'Arbitration': 8,\n",
       " 'Convenience checks': 5,\n",
       " 'Credit limit changed': 3,\n",
       " 'Incorrect/missing disclosures or info': 3,\n",
       " 'Problem with cash advance': 3,\n",
       " 'Disclosures': 1,\n",
       " 'Lender damaged or destroyed vehicle': 1,\n",
       " 'Shopping for a line of credit': 1}"
      ]
     },
     "execution_count": 11,
     "metadata": {},
     "output_type": "execute_result"
    }
   ],
   "source": [
    "data.cluster_Issue.value_counts().to_dict()"
   ]
  },
  {
   "cell_type": "code",
   "execution_count": 12,
   "metadata": {},
   "outputs": [],
   "source": [
    "# Select top10 companies for classification\n",
    "data['Company'] = data['Company'].replace(data['Company'].value_counts().index[10:], \"Other\")"
   ]
  },
  {
   "cell_type": "code",
   "execution_count": 4,
   "metadata": {},
   "outputs": [],
   "source": [
    "# Select top10 states for classification\n",
    "data['State'] = data['State'].replace(data['State'].value_counts().index[10:], \"Other\")"
   ]
  },
  {
   "cell_type": "code",
   "execution_count": 5,
   "metadata": {},
   "outputs": [],
   "source": [
    "# Merge same products\n",
    "data.loc[((data.Product == 'Credit card') |\n",
    "          (data.Product == 'Credit card or prepaid card') | \n",
    "          (data.Product == 'Prepaid card')),\n",
    "         'Product'] = 'Credit card or prepaid card'"
   ]
  },
  {
   "cell_type": "code",
   "execution_count": 6,
   "metadata": {},
   "outputs": [],
   "source": [
    "data.loc[((data.Product == 'Credit reporting') |\n",
    "          (data.Product == 'Credit reporting, credit repair services, or other personal consumer reports')),\n",
    "         'Product'] = 'Credit reporting, credit repair services, or other personal consumer reports'"
   ]
  },
  {
   "cell_type": "code",
   "execution_count": 7,
   "metadata": {},
   "outputs": [],
   "source": [
    "data.loc[((data.Product == 'Money transfer, virtual currency, or money service') |\n",
    "          (data.Product == 'Money transfers') |\n",
    "          (data.Product == 'Virtual currency')),\n",
    "         'Product'] = 'Money transfer, virtual currency, or money service'"
   ]
  },
  {
   "cell_type": "code",
   "execution_count": 8,
   "metadata": {},
   "outputs": [],
   "source": [
    "data.loc[((data.Product == 'Payday loan') |\n",
    "          (data.Product == 'Payday loan, title loan, or personal loan')),\n",
    "         'Product'] = 'Payday loan, title loan, or personal loan'"
   ]
  },
  {
   "cell_type": "code",
   "execution_count": 9,
   "metadata": {},
   "outputs": [],
   "source": [
    "data.loc[((data.Product == 'Credit card') |\n",
    "          (data.Product == 'Credit card or prepaid card')),\n",
    "         'Product'] = 'Credit card or prepaid card'"
   ]
  },
  {
   "cell_type": "code",
   "execution_count": 10,
   "metadata": {},
   "outputs": [],
   "source": [
    "data.loc[((data.Product == 'Credit card') |\n",
    "          (data.Product == 'Credit card or prepaid card')),\n",
    "         'Product'] = 'Credit card or prepaid card'"
   ]
  },
  {
   "cell_type": "code",
   "execution_count": 11,
   "metadata": {},
   "outputs": [],
   "source": [
    "data.loc[((data.Product == 'Credit card') |\n",
    "          (data.Product == 'Credit card or prepaid card')),\n",
    "         'Product'] = 'Credit card or prepaid card'"
   ]
  },
  {
   "cell_type": "code",
   "execution_count": 12,
   "metadata": {},
   "outputs": [
    {
     "data": {
      "text/plain": [
       "Index(['positive_score', 'negative_score', 'clean_sentences', 'Issue',\n",
       "       'cluster_Issue', 'Product_Checking or savings account',\n",
       "       'Product_Consumer Loan', 'Product_Credit card or prepaid card',\n",
       "       'Product_Credit reporting, credit repair services, or other personal consumer reports',\n",
       "       'Product_Debt collection',\n",
       "       'Product_Money transfer, virtual currency, or money service',\n",
       "       'Product_Mortgage', 'Product_Other financial service',\n",
       "       'Product_Payday loan, title loan, or personal loan',\n",
       "       'Product_Student loan', 'Product_Vehicle loan or lease', 'State_FL',\n",
       "       'State_GA', 'State_IL', 'State_NC', 'State_NJ', 'State_NY', 'State_OH',\n",
       "       'State_Other', 'State_PA', 'State_TX'],\n",
       "      dtype='object')"
      ]
     },
     "execution_count": 12,
     "metadata": {},
     "output_type": "execute_result"
    }
   ],
   "source": [
    "# One hot encoding\n",
    "df = data[['Product', 'State', 'positive_score', 'negative_score', 'clean_sentences', 'Issue', 'cluster_Issue']]\n",
    "lst = ['Product', 'State']\n",
    "df = pd.get_dummies(df, columns=lst, drop_first=True)\n",
    "df.columns"
   ]
  },
  {
   "cell_type": "code",
   "execution_count": 13,
   "metadata": {},
   "outputs": [
    {
     "data": {
      "text/plain": [
       "Pipeline(memory=None,\n",
       "         steps=[('features',\n",
       "                 FeatureUnion(n_jobs=None,\n",
       "                              transformer_list=[('numeric_features',\n",
       "                                                 Pipeline(memory=None,\n",
       "                                                          steps=[('selector',\n",
       "                                                                  FunctionTransformer(accept_sparse=False,\n",
       "                                                                                      check_inverse=True,\n",
       "                                                                                      func=<function <lambda> at 0x1291f4170>,\n",
       "                                                                                      inv_kw_args=None,\n",
       "                                                                                      inverse_func=None,\n",
       "                                                                                      kw_args=None,\n",
       "                                                                                      validate=False))],\n",
       "                                                          verbose=False)),\n",
       "                                                ('word_features',\n",
       "                                                 Pipeline(mem...\n",
       "                                                                                  token_pattern='(?u)\\\\b\\\\w\\\\w+\\\\b',\n",
       "                                                                                  tokenizer=None,\n",
       "                                                                                  use_idf=True,\n",
       "                                                                                  vocabulary=None))],\n",
       "                                                          verbose=False))],\n",
       "                              transformer_weights=None, verbose=False)),\n",
       "                ('lsvc',\n",
       "                 LinearSVC(C=1.0, class_weight=None, dual=True,\n",
       "                           fit_intercept=True, intercept_scaling=1,\n",
       "                           loss='squared_hinge', max_iter=1000,\n",
       "                           multi_class='ovr', penalty='l2', random_state=None,\n",
       "                           tol=0.0001, verbose=0))],\n",
       "         verbose=False)"
      ]
     },
     "execution_count": 13,
     "metadata": {},
     "output_type": "execute_result"
    }
   ],
   "source": [
    "# Build the pipeline for TFIDF and LinearSVC model\n",
    "from sklearn.model_selection import train_test_split\n",
    "from sklearn.pipeline import Pipeline, FeatureUnion\n",
    "from sklearn.preprocessing import FunctionTransformer\n",
    "from sklearn.feature_extraction.text import CountVectorizer\n",
    "from sklearn.feature_extraction.text import TfidfVectorizer\n",
    "from sklearn.svm import LinearSVC\n",
    "\n",
    "from sklearn.model_selection import GridSearchCV\n",
    "from sklearn.model_selection import StratifiedKFold\n",
    "import warnings\n",
    "warnings.filterwarnings(\"ignore\")\n",
    "\n",
    "X_train, X_test, y_train, y_test = train_test_split(df.drop(['cluster_Issue', 'Issue'],axis=1), \n",
    "                                                    df['cluster_Issue'], random_state = 0, train_size = 0.7)\n",
    "\n",
    "get_numeric_data = FunctionTransformer(lambda x: x.drop(['clean_sentences'],axis=1), validate=False)\n",
    "get_text_data = FunctionTransformer(lambda x: x['clean_sentences'], validate=False)\n",
    "\n",
    "pipeline = Pipeline([\n",
    "    ('features', FeatureUnion([\n",
    "            ('numeric_features', Pipeline([\n",
    "                ('selector', get_numeric_data)\n",
    "            ])),\n",
    "             ('word_features', Pipeline([ \n",
    "                ('selector', get_text_data),\n",
    "                ('tfidf', TfidfVectorizer(ngram_range=(1,2), norm='l2')),\n",
    "            ])),\n",
    "         ])),\n",
    "           ('lsvc', LinearSVC()) \n",
    "     ])\n",
    "\n",
    "\n",
    "# GridSearch the best parameter set, using precision for optimization\n",
    "# Precision is the number of correct results divided by the number of all returned results\n",
    "#y_train = y_train.factorize()[0]\n",
    "pipeline.fit(X_train, y_train)"
   ]
  },
  {
   "cell_type": "code",
   "execution_count": 14,
   "metadata": {},
   "outputs": [
    {
     "name": "stdout",
     "output_type": "stream",
     "text": [
      "precision: 0.8520371452489824\n",
      "recall: 0.8678651685393258\n",
      "fscore: 0.852764442562402\n"
     ]
    }
   ],
   "source": [
    "# Predict on test set and evaluate predictions\n",
    "\n",
    "import matplotlib.pyplot as plt\n",
    "from sklearn.metrics import confusion_matrix\n",
    "from sklearn.metrics import classification_report\n",
    "from sklearn.metrics import (brier_score_loss, precision_score, recall_score,\n",
    "                             f1_score, accuracy_score)\n",
    "from sklearn.metrics import precision_recall_fscore_support as score\n",
    "y_pred = pipeline.predict(X_test)\n",
    "\n",
    "print('precision: {}'.format(precision_score(y_test, y_pred, average='weighted')))\n",
    "print('recall: {}'.format(recall_score(y_test, y_pred, average='weighted')))\n",
    "print('fscore: {}'.format(f1_score(y_test, y_pred, average='weighted')))"
   ]
  },
  {
   "cell_type": "code",
   "execution_count": 15,
   "metadata": {},
   "outputs": [],
   "source": [
    "import dill\n",
    "with open(\"pipeline.pkl\", 'wb') as pickle_file:\n",
    "    dill.dump(pipeline, pickle_file)"
   ]
  },
  {
   "cell_type": "code",
   "execution_count": 16,
   "metadata": {},
   "outputs": [],
   "source": [
    "# Simulate user input in dash\n",
    "product = 1\n",
    "state = 22"
   ]
  },
  {
   "cell_type": "code",
   "execution_count": 17,
   "metadata": {},
   "outputs": [],
   "source": [
    "index_dict = {'Product_Checking or savings account': 1,\n",
    " 'Product_Consumer Loan': 2,\n",
    " 'Product_Credit card or prepaid card': 3,\n",
    " 'Product_Credit reporting, credit repair services, or other personal consumer reports': 4,\n",
    " 'Product_Debt collection': 5,\n",
    " 'Product_Money transfer, virtual currency, or money service': 6,\n",
    " 'Product_Mortgage': 7,\n",
    " 'Product_Other financial service': 8,\n",
    " 'Product_Payday loan, title loan, or personal loan': 9,\n",
    " 'Product_Student loan': 10,\n",
    " 'Product_Vehicle loan or lease': 11,\n",
    " 'State_FL': 12,\n",
    " 'State_GA': 13,\n",
    " 'State_IL': 14,\n",
    " 'State_NC': 15,\n",
    " 'State_NJ': 16,\n",
    " 'State_NY': 17,\n",
    " 'State_OH': 18,\n",
    " 'State_PA': 19,\n",
    " 'State_TX': 20,\n",
    " 'State_Other': 21}"
   ]
  },
  {
   "cell_type": "code",
   "execution_count": 19,
   "metadata": {},
   "outputs": [],
   "source": [
    "def dummy(index_dict, pro, stat): \n",
    "    for key, value in index_dict.items():\n",
    "        if pro == value:\n",
    "            index_dict[key] = 100\n",
    "        if stat == value:\n",
    "            index_dict[key] = 100\n",
    "    for key, value in index_dict.items():\n",
    "        if value < 100:\n",
    "            index_dict[key] = 0\n",
    "        if value == 100:\n",
    "            index_dict[key] = 1    \n",
    "    return index_dict\n",
    "\n",
    "attribute_index = dummy(index_dict=index_dict, pro=product, stat=state)"
   ]
  },
  {
   "cell_type": "code",
   "execution_count": 20,
   "metadata": {},
   "outputs": [
    {
     "data": {
      "text/html": [
       "<div>\n",
       "<style scoped>\n",
       "    .dataframe tbody tr th:only-of-type {\n",
       "        vertical-align: middle;\n",
       "    }\n",
       "\n",
       "    .dataframe tbody tr th {\n",
       "        vertical-align: top;\n",
       "    }\n",
       "\n",
       "    .dataframe thead th {\n",
       "        text-align: right;\n",
       "    }\n",
       "</style>\n",
       "<table border=\"1\" class=\"dataframe\">\n",
       "  <thead>\n",
       "    <tr style=\"text-align: right;\">\n",
       "      <th></th>\n",
       "      <th>Product_Checking or savings account</th>\n",
       "      <th>Product_Consumer Loan</th>\n",
       "      <th>Product_Credit card or prepaid card</th>\n",
       "      <th>Product_Credit reporting, credit repair services, or other personal consumer reports</th>\n",
       "      <th>Product_Debt collection</th>\n",
       "      <th>Product_Money transfer, virtual currency, or money service</th>\n",
       "      <th>Product_Mortgage</th>\n",
       "      <th>Product_Other financial service</th>\n",
       "      <th>Product_Payday loan, title loan, or personal loan</th>\n",
       "      <th>Product_Student loan</th>\n",
       "      <th>...</th>\n",
       "      <th>State_NC</th>\n",
       "      <th>State_NJ</th>\n",
       "      <th>State_NY</th>\n",
       "      <th>State_OH</th>\n",
       "      <th>State_PA</th>\n",
       "      <th>State_TX</th>\n",
       "      <th>State_Other</th>\n",
       "      <th>positive_score</th>\n",
       "      <th>negative_score</th>\n",
       "      <th>clean_sentences</th>\n",
       "    </tr>\n",
       "  </thead>\n",
       "  <tbody>\n",
       "    <tr>\n",
       "      <td>0</td>\n",
       "      <td>1</td>\n",
       "      <td>0</td>\n",
       "      <td>0</td>\n",
       "      <td>0</td>\n",
       "      <td>0</td>\n",
       "      <td>0</td>\n",
       "      <td>0</td>\n",
       "      <td>0</td>\n",
       "      <td>0</td>\n",
       "      <td>0</td>\n",
       "      <td>...</td>\n",
       "      <td>0</td>\n",
       "      <td>0</td>\n",
       "      <td>0</td>\n",
       "      <td>0</td>\n",
       "      <td>0</td>\n",
       "      <td>0</td>\n",
       "      <td>0</td>\n",
       "      <td>0.1</td>\n",
       "      <td>0.7</td>\n",
       "      <td>I hate you</td>\n",
       "    </tr>\n",
       "  </tbody>\n",
       "</table>\n",
       "<p>1 rows × 24 columns</p>\n",
       "</div>"
      ],
      "text/plain": [
       "   Product_Checking or savings account  Product_Consumer Loan  \\\n",
       "0                                    1                      0   \n",
       "\n",
       "   Product_Credit card or prepaid card  \\\n",
       "0                                    0   \n",
       "\n",
       "   Product_Credit reporting, credit repair services, or other personal consumer reports  \\\n",
       "0                                                  0                                      \n",
       "\n",
       "   Product_Debt collection  \\\n",
       "0                        0   \n",
       "\n",
       "   Product_Money transfer, virtual currency, or money service  \\\n",
       "0                                                  0            \n",
       "\n",
       "   Product_Mortgage  Product_Other financial service  \\\n",
       "0                 0                                0   \n",
       "\n",
       "   Product_Payday loan, title loan, or personal loan  Product_Student loan  \\\n",
       "0                                                  0                     0   \n",
       "\n",
       "   ...  State_NC  State_NJ  State_NY  State_OH  State_PA  State_TX  \\\n",
       "0  ...         0         0         0         0         0         0   \n",
       "\n",
       "   State_Other  positive_score  negative_score  clean_sentences  \n",
       "0            0             0.1             0.7       I hate you  \n",
       "\n",
       "[1 rows x 24 columns]"
      ]
     },
     "execution_count": 20,
     "metadata": {},
     "output_type": "execute_result"
    }
   ],
   "source": [
    "attribute_index['positive_score'] = 0.1\n",
    "attribute_index['negative_score'] = 0.7\n",
    "attribute_index['clean_sentences'] = 'I hate you'\n",
    "input_data = pd.DataFrame(attribute_index, index=[0])\n",
    "input_data"
   ]
  },
  {
   "cell_type": "code",
   "execution_count": 21,
   "metadata": {},
   "outputs": [],
   "source": [
    "with open('pipeline.pkl', 'rb') as file:\n",
    "    model = dill.load(file)"
   ]
  },
  {
   "cell_type": "code",
   "execution_count": 22,
   "metadata": {},
   "outputs": [
    {
     "data": {
      "text/plain": [
       "'Account opening, closing, or management'"
      ]
     },
     "execution_count": 22,
     "metadata": {},
     "output_type": "execute_result"
    }
   ],
   "source": [
    "model.predict(input_data)[0]"
   ]
  },
  {
   "cell_type": "code",
   "execution_count": null,
   "metadata": {},
   "outputs": [],
   "source": []
  }
 ],
 "metadata": {
  "kernelspec": {
   "display_name": "Python 3",
   "language": "python",
   "name": "python3"
  },
  "language_info": {
   "codemirror_mode": {
    "name": "ipython",
    "version": 3
   },
   "file_extension": ".py",
   "mimetype": "text/x-python",
   "name": "python",
   "nbconvert_exporter": "python",
   "pygments_lexer": "ipython3",
   "version": "3.7.4"
  },
  "toc": {
   "base_numbering": 1,
   "nav_menu": {},
   "number_sections": true,
   "sideBar": true,
   "skip_h1_title": false,
   "title_cell": "Table of Contents",
   "title_sidebar": "Contents",
   "toc_cell": false,
   "toc_position": {},
   "toc_section_display": true,
   "toc_window_display": false
  }
 },
 "nbformat": 4,
 "nbformat_minor": 2
}
